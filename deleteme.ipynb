{
  "nbformat": 4,
  "nbformat_minor": 0,
  "metadata": {
    "colab": {
      "provenance": []
    },
    "kernelspec": {
      "name": "python3",
      "display_name": "Python 3"
    },
    "language_info": {
      "name": "python"
    }
  },
  "cells": [
    {
      "cell_type": "code",
      "execution_count": 3,
      "metadata": {
        "colab": {
          "base_uri": "https://localhost:8080/"
        },
        "id": "AciFjCENy7YC",
        "outputId": "4e9285b3-8f05-42a2-b9ba-fb9b14aacb58"
      },
      "outputs": [
        {
          "output_type": "stream",
          "name": "stderr",
          "text": [
            "No model was supplied, defaulted to sshleifer/distilbart-cnn-12-6 and revision a4f8f3e (https://huggingface.co/sshleifer/distilbart-cnn-12-6).\n",
            "Using a pipeline without specifying a model name and revision in production is not recommended.\n"
          ]
        },
        {
          "output_type": "stream",
          "name": "stdout",
          "text": [
            "\n",
            "\n",
            "\n",
            "\n",
            "\\Summary:  In recent years, artificial intelligence has made significant advancements, transforming industries and everyday life . Despite these challenges, AI remains one of the most promising fields for the future of technology and innovation .\n"
          ]
        }
      ],
      "source": [
        "from transformers import pipeline\n",
        "\n",
        "# Load the summarization pipeline\n",
        "summarizer = pipeline(\"summarization\")\n",
        "\n",
        "# Example text\n",
        "text = \"\"\"\n",
        "In recent years, artificial intelligence (AI) has made significant advancements, transforming industries and everyday life.\n",
        "From self-driving cars to AI assistants, the applications of AI are endless. Researchers and companies alike are exploring\n",
        "new ways to leverage this powerful technology to solve complex problems. However, as AI continues to evolve, questions\n",
        "regarding its ethical implications, job displacement, and societal impact are also emerging. Despite these challenges,\n",
        "AI remains one of the most promising fields for the future of technology and innovation.\n",
        "\"\"\"\n",
        "\n",
        "# Generate summary\n",
        "summary = summarizer(text, max_length=100, min_length=30, do_sample=False)\n",
        "\n",
        "# Print the summary\n",
        "print(\"\\n\\n\\n\\n\\Summary:\", summary[0]['summary_text'])\n"
      ]
    },
    {
      "cell_type": "code",
      "source": [
        "print(\"Summary:\", summary[0]['summary_text'])"
      ],
      "metadata": {
        "colab": {
          "base_uri": "https://localhost:8080/"
        },
        "id": "zRWQgxVRzTxR",
        "outputId": "1071891a-5ec0-466b-be9c-e51b235d39f1"
      },
      "execution_count": 2,
      "outputs": [
        {
          "output_type": "stream",
          "name": "stdout",
          "text": [
            "Summary:  In recent years, artificial intelligence has made significant advancements, transforming industries and everyday life . Despite these challenges, AI remains one of the most promising fields for the future of technology and innovation .\n"
          ]
        }
      ]
    }
  ]
}