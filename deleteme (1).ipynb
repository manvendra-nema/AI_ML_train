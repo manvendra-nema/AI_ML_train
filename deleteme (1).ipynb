{
  "nbformat": 4,
  "nbformat_minor": 0,
  "metadata": {
    "colab": {
      "provenance": []
    },
    "kernelspec": {
      "name": "python3",
      "display_name": "Python 3"
    },
    "language_info": {
      "name": "python"
    }
  },
  "cells": [
    {
      "cell_type": "code",
      "source": [
        "\n",
        "from transformers import pipeline\n",
        "\n",
        "# Load the summarization pipeline\n",
        "summarizer = pipeline(\"summarization\")\n",
        "\n",
        "# Example text (you can replace this with your own text)\n",
        "text = \"\"\"\n",
        "Artificial intelligence (AI) is rapidly evolving, with applications ranging from self-driving cars to virtual assistants.\n",
        "Researchers and companies are constantly developing new AI technologies to address complex problems in various fields.\n",
        "However, the rapid advancement of AI also raises concerns about its ethical implications, such as job displacement and bias.\n",
        "Despite these challenges, AI holds immense potential for positive societal impact and remains a key driver of innovation.\n",
        "The development of AI is being driven by advancements in machine learning, deep learning, and natural language processing.\n",
        "These technologies allow computers to learn from data, recognize patterns, and generate human-like text.\n",
        "AI is transforming industries such as healthcare, finance, and manufacturing, enabling more efficient processes and better decision-making.\n",
        "The use of AI in healthcare is leading to breakthroughs in diagnosis, treatment, and drug discovery.\n",
        "In finance, AI is being used to detect fraud, personalize financial products, and automate trading.\n",
        "AI is also playing a crucial role in manufacturing, improving productivity and reducing costs through automation.\n",
        "The future of AI is bright, with ongoing research focusing on areas such as robotics, computer vision, and reinforcement learning.\n",
        "These advancements will lead to even more sophisticated AI systems that can perform tasks previously thought impossible.\n",
        "AI has the potential to revolutionize various aspects of human life, from education and entertainment to transportation and communication.\n",
        "However, it is important to address the ethical and societal implications of AI development responsibly.\n",
        "This includes ensuring fairness, transparency, and accountability in AI systems.\n",
        "The development of AI requires collaboration between researchers, policymakers, and the public to ensure its responsible use.\n",
        "Ultimately, the goal is to harness the power of AI to create a better future for all.\n",
        "\"\"\"\n"
      ],
      "metadata": {
        "id": "MWM2_QLK0fUP"
      },
      "execution_count": null,
      "outputs": []
    },
    {
      "cell_type": "code",
      "source": [],
      "metadata": {
        "colab": {
          "base_uri": "https://localhost:8080/"
        },
        "id": "gJq0b59L0tDG",
        "outputId": "4983e9b6-a08d-42f9-f4cf-7307ffa5de83"
      },
      "execution_count": 4,
      "outputs": [
        {
          "output_type": "execute_result",
          "data": {
            "text/plain": [
              "['',\n",
              " 'In recent years, artificial intelligence (AI) has made significant advancements, transforming industries and everyday life. ',\n",
              " 'From self-driving cars to AI assistants, the applications of AI are endless. Researchers and companies alike are exploring ',\n",
              " 'new ways to leverage this powerful technology to solve complex problems. However, as AI continues to evolve, questions ',\n",
              " 'regarding its ethical implications, job displacement, and societal impact are also emerging. Despite these challenges, ',\n",
              " 'AI remains one of the most promising fields for the future of technology and innovation.',\n",
              " '']"
            ]
          },
          "metadata": {},
          "execution_count": 4
        }
      ]
    },
    {
      "cell_type": "code",
      "source": [
        "\n",
        "# Generate summary\n",
        "summary = summarizer(text.split(\"\\n\"), max_length=500, min_length=300, do_sample=False)\n",
        "\n",
        "# Print the summary\n",
        "print(\"\\n\\n\\n\\n\\Summary:\", summary[0]['summary_text'])"
      ],
      "metadata": {
        "colab": {
          "base_uri": "https://localhost:8080/"
        },
        "id": "fV3Kv5Be0sr8",
        "outputId": "f9cc5b11-872b-4ed0-dde2-935938e006a8"
      },
      "execution_count": 5,
      "outputs": [
        {
          "output_type": "stream",
          "name": "stderr",
          "text": [
            "Your max_length is set to 500, but your input_length is only 3. Since this is a summarization task, where outputs shorter than the input are typically wanted, you might consider decreasing max_length manually, e.g. summarizer('...', max_length=1)\n",
            "Your max_length is set to 500, but your input_length is only 23. Since this is a summarization task, where outputs shorter than the input are typically wanted, you might consider decreasing max_length manually, e.g. summarizer('...', max_length=11)\n",
            "Your max_length is set to 500, but your input_length is only 25. Since this is a summarization task, where outputs shorter than the input are typically wanted, you might consider decreasing max_length manually, e.g. summarizer('...', max_length=12)\n",
            "Your max_length is set to 500, but your input_length is only 24. Since this is a summarization task, where outputs shorter than the input are typically wanted, you might consider decreasing max_length manually, e.g. summarizer('...', max_length=12)\n",
            "Your max_length is set to 500, but your input_length is only 22. Since this is a summarization task, where outputs shorter than the input are typically wanted, you might consider decreasing max_length manually, e.g. summarizer('...', max_length=11)\n",
            "Your max_length is set to 500, but your input_length is only 18. Since this is a summarization task, where outputs shorter than the input are typically wanted, you might consider decreasing max_length manually, e.g. summarizer('...', max_length=9)\n",
            "Your max_length is set to 500, but your input_length is only 3. Since this is a summarization task, where outputs shorter than the input are typically wanted, you might consider decreasing max_length manually, e.g. summarizer('...', max_length=1)\n"
          ]
        },
        {
          "output_type": "stream",
          "name": "stdout",
          "text": [
            "\n",
            "\n",
            "\n",
            "\n",
            "\\Summary:  CNN.com will feature iReporter photos in a weekly Travel Snapshots gallery . Please submit your best shots of our featured destinations for next week . Visit CNN iReport.com/Travel next Wednesday for a new gallery of snapshots . Visit www.dailyimpact.com for a gallery next week for snapshots of places to go next week in the gallery.com . Submit photos of your favorite destinations to see next week's gallery next Wednesday . Submit your gallery next Tuesday for next next week. Submit your best photos of next week at iReport@TravelNext Wednesday . Visit http://www.jReportNextNext Wednesday for next page .com/passenger/passengers/travel next Wednesday.com and share a gallery of photos of last week. Please submit a new destination to share a new story . Submit a photo of your new destination. Please share your best stories next next story. Submit a new i-best i-new destination. Visit CNN/TravelNext Tuesday.com next week: Share your best i-tomtomtomamaamaama@Travelnextnext week.com or share a story. Please visit http://jomamaama.com /tomama@travelnextpage.com.tomama.omama/tomama/tomama.jomany.com/.tomama . Share a new photo.tomahomomomany/last story.tomamamaama/jomami/tommama/somama-tomama\n"
          ]
        }
      ]
    },
    {
      "cell_type": "code",
      "source": [
        "print(\"Summary:\", summary[0]['summary_text'])"
      ],
      "metadata": {
        "colab": {
          "base_uri": "https://localhost:8080/"
        },
        "id": "zRWQgxVRzTxR",
        "outputId": "1071891a-5ec0-466b-be9c-e51b235d39f1"
      },
      "execution_count": 2,
      "outputs": [
        {
          "output_type": "stream",
          "name": "stdout",
          "text": [
            "Summary:  In recent years, artificial intelligence has made significant advancements, transforming industries and everyday life . Despite these challenges, AI remains one of the most promising fields for the future of technology and innovation .\n"
          ]
        }
      ]
    },
    {
      "cell_type": "code",
      "source": [
        "from sklearn.feature_extraction.text import CountVectorizer\n",
        "from sklearn.decomposition import LatentDirichletAllocation\n",
        "import pandas as pd\n",
        "\n",
        "# Step 1: Create Dummy Documents\n",
        "documents = [\n",
        "    \"The economy is growing at a steady rate.\",\n",
        "    \"Stock markets are experiencing high volatility.\",\n",
        "    \"New advancements in AI are transforming industries.\",\n",
        "    \"Machine learning and AI are revolutionizing healthcare.\",\n",
        "    \"The political climate has become increasingly unstable.\",\n",
        "    \"Elections are a cornerstone of democratic systems.\",\n",
        "    \"Scientists are making strides in renewable energy.\",\n",
        "    \"Climate change is a pressing global issue.\",\n",
        "    \"Sports events bring people together and foster unity.\",\n",
        "    \"The Olympics celebrate human athletic achievement.\"\n",
        "]\n",
        "\n",
        "# Step 2: Preprocess Data - Vectorization\n",
        "vectorizer = CountVectorizer(stop_words='english')\n",
        "doc_term_matrix = vectorizer.fit_transform(documents)\n",
        "\n",
        "# Step 3: Apply LDA\n",
        "num_topics = 3  # Define the number of topics\n",
        "lda = LatentDirichletAllocation(n_components=num_topics, random_state=42)\n",
        "lda.fit(doc_term_matrix)\n",
        "\n",
        "# Step 4: Display Topics\n",
        "def display_topics(model, feature_names, num_top_words):\n",
        "    for topic_idx, topic in enumerate(model.components_):\n",
        "        print(f\"Topic {topic_idx + 1}:\")\n",
        "        print(\", \".join([feature_names[i] for i in topic.argsort()[:-num_top_words - 1:-1]]))\n",
        "        print(\"\\n\")\n",
        "\n",
        "# Step 5: Print Topics\n",
        "num_top_words = 5\n",
        "feature_names = vectorizer.get_feature_names_out()\n",
        "display_topics(lda, feature_names, num_top_words)\n",
        "\n",
        "# Step 6: Assign Topics to Documents\n",
        "doc_topic_distributions = lda.transform(doc_term_matrix)\n",
        "topic_assignments = doc_topic_distributions.argmax(axis=1)\n",
        "\n",
        "# Step 7: Create DataFrame with Document Assignments\n",
        "df = pd.DataFrame({'Document': documents, 'Assigned_Topic': topic_assignments + 1})\n",
        "print(df)\n"
      ],
      "metadata": {
        "colab": {
          "base_uri": "https://localhost:8080/"
        },
        "id": "zVCCiHLDPMo-",
        "outputId": "854be113-9870-42cf-8a9b-c6f336fc542f"
      },
      "execution_count": 6,
      "outputs": [
        {
          "output_type": "stream",
          "name": "stdout",
          "text": [
            "Topic 1:\n",
            "ai, energy, strides, scientists, renewable\n",
            "\n",
            "\n",
            "Topic 2:\n",
            "climate, issue, global, change, pressing\n",
            "\n",
            "\n",
            "Topic 3:\n",
            "people, unity, bring, events, sports\n",
            "\n",
            "\n",
            "                                            Document  Assigned_Topic\n",
            "0           The economy is growing at a steady rate.               2\n",
            "1    Stock markets are experiencing high volatility.               3\n",
            "2  New advancements in AI are transforming indust...               3\n",
            "3  Machine learning and AI are revolutionizing he...               1\n",
            "4  The political climate has become increasingly ...               2\n",
            "5  Elections are a cornerstone of democratic syst...               2\n",
            "6  Scientists are making strides in renewable ene...               1\n",
            "7         Climate change is a pressing global issue.               2\n",
            "8  Sports events bring people together and foster...               3\n",
            "9  The Olympics celebrate human athletic achievem...               1\n"
          ]
        }
      ]
    }
  ]
}