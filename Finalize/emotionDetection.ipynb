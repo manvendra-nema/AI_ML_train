{
 "cells": [
  {
   "cell_type": "code",
   "execution_count": null,
   "metadata": {},
   "outputs": [
    {
     "name": "stderr",
     "output_type": "stream",
     "text": [
      "c:\\Users\\Manvendra Nema\\anaconda3\\envs\\vercil\\Lib\\site-packages\\transformers\\pipelines\\text_classification.py:104: UserWarning: `return_all_scores` is now deprecated,  if want a similar functionality use `top_k=None` instead of `return_all_scores=True` or `top_k=1` instead of `return_all_scores=False`.\n",
      "  warnings.warn(\n"
     ]
    },
    {
     "data": {
      "application/vnd.jupyter.widget-view+json": {
       "model_id": "e53460a90a5d4898870b9ccd96a5cd01",
       "version_major": 2,
       "version_minor": 0
      },
      "text/plain": [
       "Calculating Emotion Scores:   0%|          | 0/343256 [00:00<?, ?it/s]"
      ]
     },
     "metadata": {},
     "output_type": "display_data"
    }
   ],
   "source": [
    "import torch\n",
    "from transformers import pipeline\n",
    "import pandas as pd\n",
    "from tqdm.notebook import tqdm  # For Jupyter Notebooks\n",
    "\n",
    "# Load CSV files\n",
    "train_data = pd.read_csv(r'D:\\Downloads\\dataset\\X_train_cleaned.csv')\n",
    "test_data = pd.read_csv(r'D:\\Downloads\\dataset\\X_test_cleaned.csv')\n",
    "\n",
    "# Extract features\n",
    "X_train_cleaned = train_data['review_body'].tolist()  # Text data\n",
    "X_test_cleaned = test_data['review_body'].tolist()\n",
    "\n",
    "# Ensure the text data is in string format\n",
    "X_train_cleaned = [str(item) for item in X_train_cleaned]\n",
    "X_test_cleaned = [str(item) for item in X_test_cleaned]\n",
    "\n",
    "# Load the emotion classification pipeline with truncation enabled\n",
    "classifier = pipeline(\n",
    "    \"text-classification\",\n",
    "    model='bhadresh-savani/distilbert-base-uncased-emotion',\n",
    "    return_all_scores=True,\n",
    "    truncation=True,\n",
    "    max_length=512\n",
    ")\n",
    "\n",
    "# Function to calculate emotion scores for a given sample\n",
    "def emotion_scores(samples):\n",
    "    scores = []\n",
    "    for sample in tqdm(samples, desc=\"Calculating Emotion Scores\"):\n",
    "        try:\n",
    "            emotion = classifier(sample)\n",
    "            scores.append(emotion[0])  # Append the score list for this sample\n",
    "        except Exception as e:\n",
    "            print(f\"Error processing sample: {sample[:50]}... - {str(e)}\")\n",
    "            scores.append(None)  # Handle exceptions by appending None\n",
    "    return scores\n",
    "\n",
    "# Calculate emotion scores for train and test datasets\n",
    "train_emotion_scores = emotion_scores(X_train_cleaned)\n",
    "test_emotion_scores = emotion_scores(X_test_cleaned)\n",
    "\n",
    "# Save results to DataFrame for better visualization and analysis\n",
    "train_emotion_df = pd.DataFrame(train_emotion_scores)\n",
    "test_emotion_df = pd.DataFrame(test_emotion_scores)\n",
    "\n",
    "# Save results to CSV for future use\n",
    "train_emotion_df.to_csv(r'D:\\Downloads\\dataset\\train_emotion_scores.csv', index=False)\n",
    "test_emotion_df.to_csv(r'D:\\Downloads\\dataset\\test_emotion_scores.csv', index=False)\n",
    "\n",
    "print(\"Emotion scores calculated and saved to CSV.\")\n"
   ]
  },
  {
   "cell_type": "code",
   "execution_count": 4,
   "metadata": {},
   "outputs": [
    {
     "ename": "NameError",
     "evalue": "name 'train_emotion_df' is not defined",
     "output_type": "error",
     "traceback": [
      "\u001b[1;31m---------------------------------------------------------------------------\u001b[0m",
      "\u001b[1;31mNameError\u001b[0m                                 Traceback (most recent call last)",
      "Cell \u001b[1;32mIn[4], line 1\u001b[0m\n\u001b[1;32m----> 1\u001b[0m train_emotion_df\u001b[38;5;241m.\u001b[39miloc[\u001b[38;5;241m0\u001b[39m]\n",
      "\u001b[1;31mNameError\u001b[0m: name 'train_emotion_df' is not defined"
     ]
    }
   ],
   "source": [
    "train_emotion_df.iloc[0]"
   ]
  }
 ],
 "metadata": {
  "kernelspec": {
   "display_name": "vercil",
   "language": "python",
   "name": "python3"
  },
  "language_info": {
   "codemirror_mode": {
    "name": "ipython",
    "version": 3
   },
   "file_extension": ".py",
   "mimetype": "text/x-python",
   "name": "python",
   "nbconvert_exporter": "python",
   "pygments_lexer": "ipython3",
   "version": "3.11.8"
  }
 },
 "nbformat": 4,
 "nbformat_minor": 2
}
